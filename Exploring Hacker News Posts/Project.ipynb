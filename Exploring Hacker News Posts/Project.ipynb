{
 "cells": [
  {
   "cell_type": "markdown",
   "metadata": {
    "collapsed": true
   },
   "source": [
    "# Exploring Hacker News Posts"
   ]
  },
  {
   "cell_type": "markdown",
   "metadata": {},
   "source": [
    "In this project, I'll work with a data set of submissions to popular technology site Hacker News. \n",
    "\n",
    "I investigate the following questions to make a recommendation to users on how to maximize engagement:\n",
    "1. Do Ask HN or Show HN receive more comments on average?\n",
    "2. Do posts created at a certain time receive more comments on average?"
   ]
  },
  {
   "cell_type": "markdown",
   "metadata": {},
   "source": [
    "Hacker news is a site started by the startup incubator, YCombinator, where users sumbit, vote, and comment on posts.\n",
    "It is popular in technology and startup circles and top posts receive thousands of visitors. \n",
    "\n",
    "Users submit Ask HN or Show HN posts to ask the Hacker News community a specific question or show a project, product, or something interesting. \n",
    "\n",
    "Some examples from the data set include:\n",
    "\n",
    "**Ask HN:**\n",
    "\n",
    "How to improve my personal website?\n",
    "\n",
    "Am I the only one outraged by Twitter shutting down share counts?\n",
    "\n",
    "Any recent changes to CSS that broke mobile?\n",
    "\n",
    "**Show HN:**\n",
    "\n",
    "Learn Japanese Vocab via multiple choice questions\n",
    "\n",
    "Turning a Trello list into a shared helpdesk\n",
    "\n",
    "Something pointless I made"
   ]
  },
  {
   "cell_type": "markdown",
   "metadata": {
    "collapsed": true
   },
   "source": [
    "#### Descriptions of the columns:\n",
    "\n",
    "**id:** The unique identifier from Hacker News for the post\n",
    "title: The title of the post\n",
    "\n",
    "**url:** The URL that the posts links to, if it the post has a URL\n",
    "**num_points:** The number of points the post acquired, calculated as the total number of upvotes minus the total number of downvotes\n",
    "\n",
    "**num_comments:** The number of comments that were made on the post\n",
    "\n",
    "**author:** The username of the person who submitted the post\n",
    "\n",
    "**created_at:** The date and time at which the post was submitted\n",
    "\n"
   ]
  },
  {
   "cell_type": "markdown",
   "metadata": {},
   "source": [
    "### Data Exploration"
   ]
  },
  {
   "cell_type": "markdown",
   "metadata": {},
   "source": [
    "I import the dataset and preview the first 5 columns."
   ]
  },
  {
   "cell_type": "code",
   "execution_count": 1,
   "metadata": {
    "collapsed": false
   },
   "outputs": [
    {
     "name": "stdout",
     "output_type": "stream",
     "text": [
      "[['12224879', 'Interactive Dynamic Video', 'http://www.interactivedynamicvideo.com/', '386', '52', 'ne0phyte', '8/4/2016 11:52'], ['10975351', 'How to Use Open Source and Shut the Fuck Up at the Same Time', 'http://hueniverse.com/2016/01/26/how-to-use-open-source-and-shut-the-fuck-up-at-the-same-time/', '39', '10', 'josep2', '1/26/2016 19:30'], ['11964716', \"Florida DJs May Face Felony for April Fools' Water Joke\", 'http://www.thewire.com/entertainment/2013/04/florida-djs-april-fools-water-joke/63798/', '2', '1', 'vezycash', '6/23/2016 22:20'], ['11919867', 'Technology ventures: From Idea to Enterprise', 'https://www.amazon.com/Technology-Ventures-Enterprise-Thomas-Byers/dp/0073523429', '3', '1', 'hswarna', '6/17/2016 0:01'], ['10301696', 'Note by Note: The Making of Steinway L1037 (2007)', 'http://www.nytimes.com/2007/11/07/movies/07stein.html?_r=0', '8', '2', 'walterbell', '9/30/2015 4:12']]\n"
     ]
    }
   ],
   "source": [
    "from csv import reader\n",
    "\n",
    "open_file = open('hacker_news.csv')\n",
    "read_file = reader(open_file)\n",
    "hn = list(read_file)\n",
    "hn = hn[1:]\n",
    "print(hn[:5])"
   ]
  },
  {
   "cell_type": "markdown",
   "metadata": {},
   "source": [
    "I divide the dataset into three lists: ask_posts, show_posts, and other_posts."
   ]
  },
  {
   "cell_type": "code",
   "execution_count": 2,
   "metadata": {
    "collapsed": false
   },
   "outputs": [
    {
     "name": "stdout",
     "output_type": "stream",
     "text": [
      "1744 1162 17194\n"
     ]
    }
   ],
   "source": [
    "ask_posts = []\n",
    "show_posts = []\n",
    "other_posts = []\n",
    "\n",
    "for row in hn:\n",
    "    title = row[1].lower() \n",
    "    if title.startswith('ask hn'):\n",
    "        ask_posts.append(row)\n",
    "    elif title.startswith('show hn'):\n",
    "        show_posts.append(row)\n",
    "    else:\n",
    "        other_posts.append(row)\n",
    "\n",
    "print(len(ask_posts), len(show_posts), len(other_posts))"
   ]
  },
  {
   "cell_type": "markdown",
   "metadata": {},
   "source": [
    "### Data Analysis"
   ]
  },
  {
   "cell_type": "markdown",
   "metadata": {
    "collapsed": true
   },
   "source": [
    "I find which type of post receives more comments."
   ]
  },
  {
   "cell_type": "code",
   "execution_count": 3,
   "metadata": {
    "collapsed": false
   },
   "outputs": [
    {
     "name": "stdout",
     "output_type": "stream",
     "text": [
      "14.038417431192661\n"
     ]
    }
   ],
   "source": [
    "total_ask_comments = 0\n",
    "\n",
    "for post in ask_posts:\n",
    "    num_comment = post[4]\n",
    "    num_comment = int(num_comment)\n",
    "    total_ask_comments += num_comment\n",
    "\n",
    "\n",
    "avg_ask_comments = total_ask_comments/len(ask_posts)\n",
    "print(avg_ask_comments)"
   ]
  },
  {
   "cell_type": "code",
   "execution_count": 4,
   "metadata": {
    "collapsed": false
   },
   "outputs": [
    {
     "name": "stdout",
     "output_type": "stream",
     "text": [
      "10.31669535283993\n"
     ]
    }
   ],
   "source": [
    "total_show_comments = 0\n",
    "\n",
    "for post in show_posts:\n",
    "    num_comment = post[4]\n",
    "    num_comment = int(num_comment)\n",
    "    total_show_comments += num_comment\n",
    "\n",
    "avg_show_comments = total_show_comments/len(show_posts)\n",
    "print(avg_show_comments)"
   ]
  },
  {
   "cell_type": "code",
   "execution_count": 5,
   "metadata": {
    "collapsed": false
   },
   "outputs": [
    {
     "data": {
      "text/plain": [
       "3.7217220783527303"
      ]
     },
     "execution_count": 5,
     "metadata": {},
     "output_type": "execute_result"
    }
   ],
   "source": [
    "avg_ask_comments-avg_show_comments"
   ]
  },
  {
   "cell_type": "markdown",
   "metadata": {},
   "source": [
    "Ask posts receive around 4 more comments on average than show posts. Since the goal is to maximize engagement, I will stick with ask posts for further analysis because it usually yields more engagement than show posts."
   ]
  },
  {
   "cell_type": "markdown",
   "metadata": {},
   "source": [
    "I calculate the average number of posts per hour and the average number of comments per hour."
   ]
  },
  {
   "cell_type": "code",
   "execution_count": 30,
   "metadata": {
    "collapsed": false
   },
   "outputs": [
    {
     "name": "stdout",
     "output_type": "stream",
     "text": [
      "{'12': 73, '11': 58, '13': 85, '03': 54, '05': 46, '06': 44, '10': 59, '08': 48, '23': 68, '17': 100, '16': 108, '01': 60, '20': 80, '15': 116, '04': 47, '19': 110, '22': 71, '09': 45, '14': 107, '18': 109, '02': 58, '07': 34, '21': 109, '00': 55} \n",
      "\n",
      "{'12': 687, '11': 641, '13': 1253, '03': 421, '05': 464, '06': 397, '10': 793, '08': 492, '23': 543, '17': 1146, '16': 1814, '01': 683, '20': 1722, '15': 4477, '04': 337, '19': 1188, '22': 479, '09': 251, '14': 1416, '18': 1439, '02': 1381, '07': 267, '21': 1745, '00': 447}\n"
     ]
    }
   ],
   "source": [
    "import datetime as dt\n",
    "\n",
    "result_list = []\n",
    "\n",
    "for post in ask_posts:\n",
    "    created_at = [post[6], int(post[4])]\n",
    "    result_list.append(created_at)\n",
    "    list(result_list)\n",
    "    \n",
    "#print(result_list)\n",
    "\n",
    "counts_by_hour = {}\n",
    "comments_by_hour = {}\n",
    "\n",
    "for row in result_list:\n",
    "    date_str = row[0]\n",
    "    #print(date_str)\n",
    "    new_date_str = dt.datetime.strptime(date_str, \"%m/%d/%Y %H:%M\") #creates datetime object\n",
    "    hour = dt.datetime.strftime(new_date_str, \"%H\")\n",
    "    #print(new_date_str)    \n",
    "    if hour not in counts_by_hour:\n",
    "        counts_by_hour[hour] = 1\n",
    "        comments_by_hour[hour] = row[1]\n",
    "    else:\n",
    "        counts_by_hour[hour] += 1\n",
    "        comments_by_hour[hour] += row[1]\n",
    "print(counts_by_hour, '\\n')\n",
    "print(comments_by_hour)\n"
   ]
  },
  {
   "cell_type": "markdown",
   "metadata": {},
   "source": [
    "I calculate the average number of comments per post for posts created during each hour of the day (i.e. the number of comments per post per hour)."
   ]
  },
  {
   "cell_type": "code",
   "execution_count": 39,
   "metadata": {
    "collapsed": false
   },
   "outputs": [
    {
     "data": {
      "text/plain": [
       "[['12', 9.41095890410959],\n",
       " ['11', 11.051724137931034],\n",
       " ['13', 14.741176470588234],\n",
       " ['03', 7.796296296296297],\n",
       " ['05', 10.08695652173913],\n",
       " ['06', 9.022727272727273],\n",
       " ['10', 13.440677966101696],\n",
       " ['08', 10.25],\n",
       " ['23', 7.985294117647059],\n",
       " ['17', 11.46],\n",
       " ['16', 16.796296296296298],\n",
       " ['01', 11.383333333333333],\n",
       " ['20', 21.525],\n",
       " ['15', 38.5948275862069],\n",
       " ['04', 7.170212765957447],\n",
       " ['19', 10.8],\n",
       " ['22', 6.746478873239437],\n",
       " ['09', 5.5777777777777775],\n",
       " ['14', 13.233644859813085],\n",
       " ['18', 13.20183486238532],\n",
       " ['02', 23.810344827586206],\n",
       " ['07', 7.852941176470588],\n",
       " ['21', 16.009174311926607],\n",
       " ['00', 8.127272727272727]]"
      ]
     },
     "execution_count": 39,
     "metadata": {},
     "output_type": "execute_result"
    }
   ],
   "source": [
    "avg_by_hour = []\n",
    "\n",
    "for value in comments_by_hour:\n",
    "    avg_by_hour.append([value, comments_by_hour[value]/counts_by_hour[value]])\n",
    "\n",
    "#list of lists- the first element is the hour\n",
    "#the second element is the average number of comments per post\n",
    "avg_by_hour  "
   ]
  },
  {
   "cell_type": "markdown",
   "metadata": {
    "collapsed": false
   },
   "source": [
    "The results are clear, however this format makes it difficult to identify the hours with the highest values. \n",
    "I finish by sorting the list of lists and printing the five highest values in a format that's easier to read.\n",
    "\n",
    "I change the presentation so that the average number of comments appears before the hour. Then, I sort the average number of comments in descending order."
   ]
  },
  {
   "cell_type": "code",
   "execution_count": 43,
   "metadata": {
    "collapsed": false
   },
   "outputs": [
    {
     "name": "stdout",
     "output_type": "stream",
     "text": [
      "[[9.41095890410959, '12'], [11.051724137931034, '11'], [14.741176470588234, '13'], [7.796296296296297, '03'], [10.08695652173913, '05'], [9.022727272727273, '06'], [13.440677966101696, '10'], [10.25, '08'], [7.985294117647059, '23'], [11.46, '17'], [16.796296296296298, '16'], [11.383333333333333, '01'], [21.525, '20'], [38.5948275862069, '15'], [7.170212765957447, '04'], [10.8, '19'], [6.746478873239437, '22'], [5.5777777777777775, '09'], [13.233644859813085, '14'], [13.20183486238532, '18'], [23.810344827586206, '02'], [7.852941176470588, '07'], [16.009174311926607, '21'], [8.127272727272727, '00']]\n"
     ]
    }
   ],
   "source": [
    "swap_avg_by_hour = []\n",
    "\n",
    "for row in avg_by_hour:\n",
    "    swap_avg_by_hour.append([row[1], row[0]])   #puts average number of comments first per hour first\n",
    "                            \n",
    "print(swap_avg_by_hour)"
   ]
  },
  {
   "cell_type": "code",
   "execution_count": 72,
   "metadata": {
    "collapsed": false
   },
   "outputs": [
    {
     "name": "stdout",
     "output_type": "stream",
     "text": [
      "[[38.5948275862069, '15'], [23.810344827586206, '02'], [21.525, '20'], [16.796296296296298, '16'], [16.009174311926607, '21'], [14.741176470588234, '13'], [13.440677966101696, '10'], [13.233644859813085, '14'], [13.20183486238532, '18'], [11.46, '17'], [11.383333333333333, '01'], [11.051724137931034, '11'], [10.8, '19'], [10.25, '08'], [10.08695652173913, '05'], [9.41095890410959, '12'], [9.022727272727273, '06'], [8.127272727272727, '00'], [7.985294117647059, '23'], [7.852941176470588, '07'], [7.796296296296297, '03'], [7.170212765957447, '04'], [6.746478873239437, '22'], [5.5777777777777775, '09']] \n",
      "\n"
     ]
    }
   ],
   "source": [
    "sorted_swap = sorted(swap_avg_by_hour, reverse=True)  #sorts average number of comments in descending order\n",
    "\n",
    "print(sorted_swap, '\\n')"
   ]
  },
  {
   "cell_type": "markdown",
   "metadata": {},
   "source": [
    "Which hours should a user create a post to have a higher chance of receiving comments?"
   ]
  },
  {
   "cell_type": "code",
   "execution_count": 78,
   "metadata": {
    "collapsed": false
   },
   "outputs": [
    {
     "name": "stdout",
     "output_type": "stream",
     "text": [
      "15:00: 38.59 average comments per post\n",
      "02:00: 23.81 average comments per post\n",
      "20:00: 21.52 average comments per post\n",
      "16:00: 16.80 average comments per post\n",
      "21:00: 16.01 average comments per post\n",
      "13:00: 14.74 average comments per post\n",
      "10:00: 13.44 average comments per post\n",
      "14:00: 13.23 average comments per post\n",
      "18:00: 13.20 average comments per post\n",
      "17:00: 11.46 average comments per post\n",
      "01:00: 11.38 average comments per post\n",
      "11:00: 11.05 average comments per post\n",
      "19:00: 10.80 average comments per post\n",
      "08:00: 10.25 average comments per post\n",
      "05:00: 10.09 average comments per post\n",
      "12:00: 9.41 average comments per post\n",
      "06:00: 9.02 average comments per post\n",
      "00:00: 8.13 average comments per post\n",
      "23:00: 7.99 average comments per post\n",
      "07:00: 7.85 average comments per post\n",
      "03:00: 7.80 average comments per post\n",
      "04:00: 7.17 average comments per post\n",
      "22:00: 6.75 average comments per post\n",
      "09:00: 5.58 average comments per post\n",
      "\n",
      "\n",
      "Top 5 Hours for Ask Posts Comments\n"
     ]
    },
    {
     "data": {
      "text/plain": [
       "['15:00: 38.59 average comments per post',\n",
       " '02:00: 23.81 average comments per post',\n",
       " '20:00: 21.52 average comments per post',\n",
       " '16:00: 16.80 average comments per post',\n",
       " '21:00: 16.01 average comments per post']"
      ]
     },
     "execution_count": 78,
     "metadata": {},
     "output_type": "execute_result"
    }
   ],
   "source": [
    "top_5_hours = []\n",
    "\n",
    "for row in sorted_swap:\n",
    "    time_str = row[1]\n",
    "    dt_object_parse = dt.datetime.strptime(time_str, \"%H\")  #returns a datetime object\n",
    "    dt_object_format = dt.datetime.strftime(dt_object_parse, \"%H:%M\")  #uses the datetime object to specify the format time\n",
    "    print(\"{}: {:.2f} average comments per post\".format(dt_object_format, row[0]))\n",
    "    top_5_hours.append(\"{}: {:.2f} average comments per post\".format(dt_object_format, row[0]))\n",
    "    #print(dt_object_parse)\n",
    "    #print(dt_object_format)\n",
    "\n",
    "print('\\n')\n",
    "print(\"Top 5 Hours for Ask Posts Comments\")\n",
    "\n",
    "top_5_hours[:5]"
   ]
  },
  {
   "cell_type": "markdown",
   "metadata": {
    "collapsed": true
   },
   "source": [
    "### Conclusion\n"
   ]
  },
  {
   "cell_type": "markdown",
   "metadata": {},
   "source": [
    "I recommend that users post at 15:00 or 3pm Eastern Time in the US to maximize their chance of receiving comments. Other convenient times are 2am, 8pm, 4pm, amd 9pm."
   ]
  }
 ],
 "metadata": {
  "kernelspec": {
   "display_name": "Python 3",
   "language": "python",
   "name": "python3"
  },
  "language_info": {
   "codemirror_mode": {
    "name": "ipython",
    "version": 3
   },
   "file_extension": ".py",
   "mimetype": "text/x-python",
   "name": "python",
   "nbconvert_exporter": "python",
   "pygments_lexer": "ipython3",
   "version": "3.4.3"
  }
 },
 "nbformat": 4,
 "nbformat_minor": 2
}
